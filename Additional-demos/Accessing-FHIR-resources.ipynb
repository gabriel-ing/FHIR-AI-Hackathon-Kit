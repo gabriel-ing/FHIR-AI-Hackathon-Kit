{
 "cells": [
  {
   "cell_type": "markdown",
   "id": "ec4ba719-f6c9-4901-9e78-7d1bd6716f29",
   "metadata": {},
   "source": [
    "# Accessing FHIR resources\n",
    "\n",
    "This tutorial shows two ways to access FHIR resources from a FHIR server set up with InterSystems IRIS-Health, the first using the Python package fhirpy and the second using HTTP requests. I recommend using the first (fhirpy) and the tutorial goes into much more detail here. However, if you are very familiar using HTTP requests or want to access from another application that supports HTTP requests, feel free to refer to the second method. \n",
    "\n",
    "Finally - note that for population level data, you might be better off creating relational tables based on the FHIR data. Lucky for you, there is the main demo includes a [tutorial](../Demo/1-Using-FHIR-SQL-Builder.ipynb) on how to do this. \n",
    "\n",
    "**For this tutorial, I am assuming you have set up the FHIR Server using the iris-fhir-template on github, as shown in the [main demo](../Demo/0-FHIR-Server-setup.md)** - There are other ways to set up a FHIR server and feel free to use them, you will just have to check the FHIR server location (URL) and system credentials.\n",
    "\n",
    "## Using fhirpy\n",
    "\n",
    "fhirpy can be installed through PyPI (`pip install fhirpy`) but hopefully it should have already been installed with the requirements.txt. \n",
    "\n",
    "fhirpy can be used synchronously (`SyncFHIRClient`) or asynchronously (`AyncFHIRClient`), don't worry too much about this unless you have a reason to work asynchronously. \n",
    "\n",
    "The steps for using fhirpy can be roughly broken down into: \n",
    "1. Create link to server\n",
    "2. Search for resource(s)\n",
    "3. Parse data"
   ]
  },
  {
   "cell_type": "markdown",
   "id": "070d56b4-5b0f-4d41-a185-491987b200ab",
   "metadata": {},
   "source": [
    "#### Import Dependencies"
   ]
  },
  {
   "cell_type": "code",
   "execution_count": 29,
   "id": "bd9b370e-47ad-42b3-bde9-5bd9f43dfa39",
   "metadata": {},
   "outputs": [],
   "source": [
    "from fhirpy import SyncFHIRClient, AsyncFHIRClient ## Used for created a link to the FHIR server\n",
    "import base64 # Used for encoding the credentials"
   ]
  },
  {
   "cell_type": "markdown",
   "id": "fca55e63-8e7a-4e43-9afd-a674b59581f7",
   "metadata": {},
   "source": [
    "### Create link to Server\n",
    "This creates a bridge to the client server allowing us to query the FHIR server and fetch resources using [fhirpy](https://pypi.org/project/fhirpy/) methods. This bridge means we don't have to keep typing out the server location or authorisation, we can just repeatedly query the client bridge created."
   ]
  },
  {
   "cell_type": "markdown",
   "id": "49c1d194-a72c-417b-b0e5-cae0ef134c92",
   "metadata": {},
   "source": [
    "#### Encode credentials \n",
    "Note that this method is vulnerable and should be replaced with a more secure method in production code."
   ]
  },
  {
   "cell_type": "code",
   "execution_count": 30,
   "id": "129f084e-5546-48ec-9179-53288f7d1cfb",
   "metadata": {},
   "outputs": [],
   "source": [
    "username = \"_System\"\n",
    "password = \"SYS\"\n",
    "credentials = f\"{username}:{password}\".encode(\"utf-8\")\n",
    "encoded = base64.b64encode(credentials).decode(\"utf-8\")"
   ]
  },
  {
   "cell_type": "code",
   "execution_count": 31,
   "id": "c2cdab9e-ef35-4268-b956-d9dc607d40e5",
   "metadata": {},
   "outputs": [],
   "source": [
    "## Create client using the server location - in our case its held locally on port 8080, and authorization using our encoded credentials. \n",
    "client = SyncFHIRClient(\"http://localhost:32783/fhir/r4/\", authorization=  f\"Basic {encoded}\")"
   ]
  },
  {
   "cell_type": "markdown",
   "id": "fceedc25-b5f4-4bfa-ba25-eadc230b5f88",
   "metadata": {},
   "source": [
    "### Example Query\n",
    "\n",
    "To get a specific type of resource, we can query the resource endpoint using `client.resources({resource_type_endpoint})` method. For example: "
   ]
  },
  {
   "cell_type": "code",
   "execution_count": 32,
   "id": "be8096e0-2076-4684-9925-cc7b3a0b0b64",
   "metadata": {},
   "outputs": [
    {
     "name": "stdout",
     "output_type": "stream",
     "text": [
      "[<SyncFHIRResource Patient/4>, <SyncFHIRResource Patient/5>, <SyncFHIRResource Patient/2>, <SyncFHIRResource Patient/3>, <SyncFHIRResource Patient/6>, <SyncFHIRResource Patient/37>, <SyncFHIRResource Patient/2373>, <SyncFHIRResource Patient/2372>, <SyncFHIRResource Patient/2370>, <SyncFHIRResource Patient/2371>, <SyncFHIRResource Patient/2374>, <SyncFHIRResource Patient/2407>, <SyncFHIRResource Patient/4977>, <SyncFHIRResource Patient/4985>, <SyncFHIRResource Patient/5041>]\n",
      "\n",
      "\n",
      "The query has returned 15 patient resources\n",
      "\n"
     ]
    }
   ],
   "source": [
    "resources=  client.resources(\"Patient\").fetch()\n",
    "print(resources)\n",
    "print(f'\\n\\nThe query has returned {len(resources)} patient resources\\n')"
   ]
  },
  {
   "cell_type": "code",
   "execution_count": 39,
   "id": "e8bf224a-0006-4e08-b2b1-4e6963dbff90",
   "metadata": {},
   "outputs": [
    {
     "name": "stdout",
     "output_type": "stream",
     "text": [
      "[{'use': 'official', 'family': 'Frami345', 'given': ['Kallie862'], 'prefix': ['Mrs.']}, {'use': 'maiden', 'family': \"O'Hara248\", 'given': ['Kallie862'], 'prefix': ['Mrs.']}]\n",
      "[{'use': 'official', 'family': 'Jast432', 'given': ['Frankie174'], 'prefix': ['Mr.']}]\n",
      "[{'use': 'official', 'family': \"O'Hara248\", 'given': ['Carroll471'], 'prefix': ['Mr.']}]\n",
      "[{'use': 'official', 'family': 'Rohan584', 'given': ['Gabriele201']}]\n",
      "[{'use': 'official', 'family': 'Davis923', 'given': ['Lean294'], 'prefix': ['Mrs.']}, {'use': 'maiden', 'family': 'Tillman293', 'given': ['Lean294'], 'prefix': ['Mrs.']}]\n",
      "[{'use': 'official', 'family': 'Hettinger594', 'given': ['Margie619'], 'prefix': ['Ms.']}]\n",
      "[{'use': 'official', 'family': 'Frami345', 'given': ['Kallie862'], 'prefix': ['Mrs.']}, {'use': 'maiden', 'family': \"O'Hara248\", 'given': ['Kallie862'], 'prefix': ['Mrs.']}]\n",
      "[{'use': 'official', 'family': 'Jast432', 'given': ['Frankie174'], 'prefix': ['Mr.']}]\n",
      "[{'use': 'official', 'family': \"O'Hara248\", 'given': ['Carroll471'], 'prefix': ['Mr.']}]\n",
      "[{'use': 'official', 'family': 'Rohan584', 'given': ['Gabriele201']}]\n",
      "[{'use': 'official', 'family': 'Davis923', 'given': ['Lean294'], 'prefix': ['Mrs.']}, {'use': 'maiden', 'family': 'Tillman293', 'given': ['Lean294'], 'prefix': ['Mrs.']}]\n",
      "[{'use': 'official', 'family': 'Hettinger594', 'given': ['Margie619'], 'prefix': ['Ms.']}]\n",
      "[{'use': 'official', 'family': 'Hoeger474', 'given': ['Aurora248']}]\n",
      "[{'use': 'official', 'family': 'Ziemann98', 'given': ['Alisia5'], 'prefix': ['Mrs.']}, {'use': 'maiden', 'family': 'Dietrich576', 'given': ['Alisia5'], 'prefix': ['Mrs.']}]\n",
      "[{'use': 'official', 'family': 'Wolff180', 'given': ['Miquel905'], 'prefix': ['Mr.']}]\n"
     ]
    }
   ],
   "source": [
    "for resource in resources:\n",
    "    print(resource.name)"
   ]
  },
  {
   "cell_type": "markdown",
   "id": "2f8ace88-c009-4381-a7d3-d712a8b6c4f5",
   "metadata": {},
   "source": [
    "### Adding search parameters\n",
    "We can add search parameters into our fetch methods, for example if we want to find a specific patient we could query by their first name:"
   ]
  },
  {
   "cell_type": "code",
   "execution_count": 40,
   "id": "0956aa86-4fd7-474c-9a04-255dae567f3d",
   "metadata": {},
   "outputs": [
    {
     "name": "stdout",
     "output_type": "stream",
     "text": [
      "5 \n",
      " [{'use': 'official', 'family': 'Jast432', 'given': ['Frankie174'], 'prefix': ['Mr.']}] \n",
      "\n",
      "\n",
      "2372 \n",
      " [{'use': 'official', 'family': 'Jast432', 'given': ['Frankie174'], 'prefix': ['Mr.']}] \n",
      "\n",
      "\n"
     ]
    }
   ],
   "source": [
    "frankies =  client.resources(\"Patient\").search(name=\"Frankie\").fetch()\n",
    "\n",
    "for frankie in frankies: \n",
    "    print(john.id,\"\\n\", john.name,\"\\n\\n\")"
   ]
  },
  {
   "cell_type": "markdown",
   "id": "55d3b128-dcd2-4649-8080-5c7f6b4a8061",
   "metadata": {},
   "source": [
    "You can see that this is a fuzzy search - neither of the results are of a man called John - instead patient 12724 has the surname \"Johns\" and patient 25319 has the maiden surname \"Johnson\".\n",
    "\n",
    "We could be more specific in our original search:"
   ]
  },
  {
   "cell_type": "code",
   "execution_count": 163,
   "id": "b8e6add8-99dc-444d-b5a0-1aa76ba7c86f",
   "metadata": {},
   "outputs": [
    {
     "name": "stdout",
     "output_type": "stream",
     "text": [
      "[<SyncFHIRResource Patient/25319>]\n"
     ]
    }
   ],
   "source": [
    "tish =  client.resources(\"Patient\").search(family=\"Lemke\", given=\"Tish\", birthDate=\"1975-05-26\").fetch()\n",
    "print(tish)"
   ]
  },
  {
   "cell_type": "markdown",
   "id": "6da37e32-d0ad-48b9-901c-7f77e9c8a4ae",
   "metadata": {},
   "source": [
    "We can add many search parameters to our search which we will come across later on. For every resource type, there is a list of search parameters on the FHIR documentation pages, for example, we can access [patient search parameters](https://build.fhir.org/patient-search.html). \n",
    "\n",
    "Lets see if any of our *fictional* patients are deceased:"
   ]
  },
  {
   "cell_type": "code",
   "execution_count": 167,
   "id": "c99014c6-31ca-448e-9ed7-ade2e9b8ce50",
   "metadata": {},
   "outputs": [
    {
     "data": {
      "text/plain": [
       "[<SyncFHIRResource Patient/1>,\n",
       " <SyncFHIRResource Patient/2>,\n",
       " <SyncFHIRResource Patient/1496>,\n",
       " <SyncFHIRResource Patient/3783>,\n",
       " <SyncFHIRResource Patient/3097>,\n",
       " <SyncFHIRResource Patient/5176>,\n",
       " <SyncFHIRResource Patient/4897>,\n",
       " <SyncFHIRResource Patient/15255>,\n",
       " <SyncFHIRResource Patient/25707>,\n",
       " <SyncFHIRResource Patient/31742>,\n",
       " <SyncFHIRResource Patient/34258>,\n",
       " <SyncFHIRResource Patient/35617>,\n",
       " <SyncFHIRResource Patient/37195>,\n",
       " <SyncFHIRResource Patient/38878>,\n",
       " <SyncFHIRResource Patient/42531>,\n",
       " <SyncFHIRResource Patient/43417>,\n",
       " <SyncFHIRResource Patient/46023>,\n",
       " <SyncFHIRResource Patient/53790>,\n",
       " <SyncFHIRResource Patient/59112>,\n",
       " <SyncFHIRResource Patient/63822>]"
      ]
     },
     "execution_count": 167,
     "metadata": {},
     "output_type": "execute_result"
    }
   ],
   "source": [
    "deceased = client.resources(\"Patient\").search(deceased=True).fetch()\n",
    "deceased"
   ]
  },
  {
   "cell_type": "markdown",
   "id": "7a504824-27ff-4772-a4b5-de775917ea5a",
   "metadata": {},
   "source": [
    "See how we can add search parameters to improve our search? For now though, lets return to the patient we found earlier and find out a bit more about her. \n",
    "\n",
    "Our searches have so far returned lists of resources that match, even if there is only one match. For simplicity, I am going to extract the patient resource from the list of matches:"
   ]
  },
  {
   "cell_type": "code",
   "execution_count": 168,
   "id": "2cdefb40-dd72-4ed1-a02d-4c1a856d8113",
   "metadata": {},
   "outputs": [],
   "source": [
    "tish = tish[0] # set tish to be the first (and only) resource returned by our search  "
   ]
  },
  {
   "cell_type": "markdown",
   "id": "7448523f-3e24-45a5-b91a-e23ab18eb62c",
   "metadata": {},
   "source": [
    "## Parsing the resource\n",
    "\n",
    "Once we have our resource, we can find the data we need from the resource. The different parts of the resource can be accessed as properties: \n",
    "\n",
    "Please note our subject for this part, Tish Lemke, is completely fictional. The data is synthetic and generated using [Synthea](https://synthetichealth.github.io/synthea/).\n"
   ]
  },
  {
   "cell_type": "code",
   "execution_count": 169,
   "id": "c59a4e99-662f-486d-a654-95d160910508",
   "metadata": {},
   "outputs": [
    {
     "name": "stdout",
     "output_type": "stream",
     "text": [
      "ID:  25319\n",
      "Date of Birth:  1978-06-25\n"
     ]
    }
   ],
   "source": [
    "print(\"ID: \", tish.id)\n",
    "print(\"Date of Birth: \", tish.birthDate)"
   ]
  },
  {
   "cell_type": "code",
   "execution_count": 170,
   "id": "7c9c34d1-3771-41bf-8fc9-afd4c1cc9c85",
   "metadata": {},
   "outputs": [
    {
     "name": "stdout",
     "output_type": "stream",
     "text": [
      "[{'use': 'official', 'family': 'Lemke', 'given': ['Tish'], 'prefix': ['Mrs.']}, {'use': 'maiden', 'family': 'Johnston', 'given': ['Tish'], 'prefix': ['Mrs.']}]\n"
     ]
    }
   ],
   "source": [
    "## Some properties are more complex than others: \n",
    "print(tish.name)"
   ]
  },
  {
   "cell_type": "code",
   "execution_count": 171,
   "id": "4a8de4fa-be4e-4817-a190-805cd9cf56a3",
   "metadata": {},
   "outputs": [
    {
     "name": "stdout",
     "output_type": "stream",
     "text": [
      "LastName,FirstName:  Lemke,Tish\n"
     ]
    }
   ],
   "source": [
    "print(\"LastName,FirstName: \", f\"{tish.name[0].family},{tish.name[0].given[0]}\") "
   ]
  },
  {
   "cell_type": "markdown",
   "id": "efd135f2-1e83-413b-aece-1e7ecb7463b0",
   "metadata": {},
   "source": [
    "We can see all the data in the resource with: "
   ]
  },
  {
   "cell_type": "code",
   "execution_count": 152,
   "id": "b33e90df-ccff-49f8-ac89-8c90bd08cc6d",
   "metadata": {},
   "outputs": [
    {
     "data": {
      "text/plain": [
       "{'resourceType': 'Patient',\n",
       " 'id': '25319',\n",
       " 'text': {'status': 'generated',\n",
       "  'div': '<div xmlns=\"http://www.w3.org/1999/xhtml\">Generated by <a href=\"https://github.com/synthetichealth/synthea\">Synthea</a>.Version identifier: synthea-java .   Person seed: 7070811051044420006  Population seed: 1597764932523</div>'},\n",
       " 'extension': [{'url': 'http://hl7.org/fhir/StructureDefinition/patient-mothersMaidenName',\n",
       "   'valueString': 'Lisabeth Zboncak'},\n",
       "  {'url': 'http://hl7.org/fhir/StructureDefinition/patient-birthPlace',\n",
       "   'valueAddress': {'city': 'Nahant',\n",
       "    'state': 'Massachusetts',\n",
       "    'country': 'US'}},\n",
       "  {'url': 'http://synthetichealth.github.io/synthea/disability-adjusted-life-years',\n",
       "   'valueDecimal': 0.07941261291993779},\n",
       "  {'url': 'http://synthetichealth.github.io/synthea/quality-adjusted-life-years',\n",
       "   'valueDecimal': 40.92058738708006}],\n",
       " 'identifier': [{'system': 'https://github.com/synthetichealth/synthea',\n",
       "   'value': 'e362ce59-b198-4296-b01e-109fa6b44fe5'},\n",
       "  {'type': {'coding': [{'system': 'http://terminology.hl7.org/CodeSystem/v2-0203',\n",
       "      'code': 'MR',\n",
       "      'display': 'Medical Record Number'}],\n",
       "    'text': 'Medical Record Number'},\n",
       "   'system': 'http://hospital.smarthealthit.org',\n",
       "   'value': 'e362ce59-b198-4296-b01e-109fa6b44fe5'},\n",
       "  {'type': {'coding': [{'system': 'http://terminology.hl7.org/CodeSystem/v2-0203',\n",
       "      'code': 'SS',\n",
       "      'display': 'Social Security Number'}],\n",
       "    'text': 'Social Security Number'},\n",
       "   'system': 'http://hl7.org/fhir/sid/us-ssn',\n",
       "   'value': '999-13-4626'},\n",
       "  {'type': {'coding': [{'system': 'http://terminology.hl7.org/CodeSystem/v2-0203',\n",
       "      'code': 'DL',\n",
       "      'display': \"Driver's License\"}],\n",
       "    'text': \"Driver's License\"},\n",
       "   'system': 'urn:oid:2.16.840.1.113883.4.3.25',\n",
       "   'value': 'S99931949'},\n",
       "  {'type': {'coding': [{'system': 'http://terminology.hl7.org/CodeSystem/v2-0203',\n",
       "      'code': 'PPN',\n",
       "      'display': 'Passport Number'}],\n",
       "    'text': 'Passport Number'},\n",
       "   'system': 'http://standardhealthrecord.org/fhir/StructureDefinition/passportNumber',\n",
       "   'value': 'X76326389X'}],\n",
       " 'name': [{'use': 'official',\n",
       "   'family': 'Lemke',\n",
       "   'given': ['Tish'],\n",
       "   'prefix': ['Mrs.']},\n",
       "  {'use': 'maiden',\n",
       "   'family': 'Johnston',\n",
       "   'given': ['Tish'],\n",
       "   'prefix': ['Mrs.']}],\n",
       " 'telecom': [{'system': 'phone', 'value': '555-640-1130', 'use': 'home'}],\n",
       " 'gender': 'female',\n",
       " 'birthDate': '1978-06-25',\n",
       " 'address': [{'extension': [{'url': 'http://hl7.org/fhir/StructureDefinition/geolocation',\n",
       "     'extension': [{'url': 'latitude', 'valueDecimal': 41.78651253516297},\n",
       "      {'url': 'longitude', 'valueDecimal': -70.69785375801584}]}],\n",
       "   'line': ['400 Cartwright Knoll'],\n",
       "   'city': 'Wareham',\n",
       "   'state': 'Massachusetts',\n",
       "   'country': 'US'}],\n",
       " 'maritalStatus': {'coding': [{'system': 'http://terminology.hl7.org/CodeSystem/v3-MaritalStatus',\n",
       "    'code': 'M',\n",
       "    'display': 'M'}],\n",
       "  'text': 'M'},\n",
       " 'multipleBirthBoolean': False,\n",
       " 'communication': [{'language': {'coding': [{'system': 'urn:ietf:bcp:47',\n",
       "      'code': 'en-US',\n",
       "      'display': 'English'}],\n",
       "    'text': 'English'}}],\n",
       " 'meta': {'lastUpdated': '2025-09-19T14:00:21Z', 'versionId': '1'}}"
      ]
     },
     "execution_count": 152,
     "metadata": {},
     "output_type": "execute_result"
    }
   ],
   "source": [
    "tish.serialize() ## The result is the resource in Python Dictionary format (essentially JSON format)"
   ]
  },
  {
   "cell_type": "code",
   "execution_count": 54,
   "id": "77f1b60c-2b7b-408b-bfa3-30817497a0a3",
   "metadata": {},
   "outputs": [],
   "source": [
    "## As a challenge - see if you can find Tish's phone number using . properties! "
   ]
  },
  {
   "attachments": {
    "22401014-b535-4415-8c82-278135edcb65.png": {
     "image/png": "[encoded data removed]"
    }
   },
   "cell_type": "markdown",
   "id": "0674efa2-040a-4f03-b42f-13aff6709126",
   "metadata": {},
   "source": [
    "## Other resources\n",
    "\n",
    "While the patient resource is vital for knowing the personal details of the patient in focus, clinical information is kept in other resources. There are many supported resources - the [Official FHIR resource list](https://build.fhir.org/resourcelist.html) has 159, each with a specific role. Many of these are adminstrative and handle orgnisations, payments and general management, but a subset might be useful for clinical means: \n",
    "\n",
    "![image.png](attachment:22401014-b535-4415-8c82-278135edcb65.png)\n",
    "\n",
    "When using a new resource, I highly recommend using the .serialize() method to look at the resource structure and help you locate the data you need! \n",
    "\n",
    "We can find information about our (*fictional*) patient using her id:   "
   ]
  },
  {
   "cell_type": "code",
   "execution_count": 154,
   "id": "555a3fd7-34fd-45de-964c-b54f285a6f48",
   "metadata": {},
   "outputs": [
    {
     "name": "stdout",
     "output_type": "stream",
     "text": [
      "[<SyncFHIRResource Condition/31443>, <SyncFHIRResource Condition/27077>, <SyncFHIRResource Condition/27055>, <SyncFHIRResource Condition/27073>, <SyncFHIRResource Condition/27074>, <SyncFHIRResource Condition/27075>, <SyncFHIRResource Condition/27076>, <SyncFHIRResource Condition/27048>, <SyncFHIRResource Condition/27049>, <SyncFHIRResource Condition/27050>, <SyncFHIRResource Condition/27051>, <SyncFHIRResource Condition/27052>, <SyncFHIRResource Condition/27053>, <SyncFHIRResource Condition/27054>, <SyncFHIRResource Condition/27013>, <SyncFHIRResource Condition/27005>, <SyncFHIRResource Condition/27001>, <SyncFHIRResource Condition/26492>, <SyncFHIRResource Condition/26443>, <SyncFHIRResource Condition/26426>, <SyncFHIRResource Condition/26387>, <SyncFHIRResource Condition/25323>]\n"
     ]
    }
   ],
   "source": [
    "patient_id = tish.id\n",
    "\n",
    "## Here I am adding a 'sort' method to the search to return the results in order of most recent. \n",
    "## The '-' character in the sort search parameter means reverse order (in this case ascending, or most recent first). \n",
    "## The search parameters have different syntax to the resource serialization. \n",
    "## To find search parameters for a specific resource, look on the build.fhir.org documneation\n",
    "## see https://build.fhir.org/condition-search.html for condition resource search parameters\n",
    "conditions = client.resources(\"Condition\").search(patient=patient_id).sort(\"-recorded-date\").fetch()\n",
    "\n",
    "print(conditions)"
   ]
  },
  {
   "cell_type": "code",
   "execution_count": 155,
   "id": "79ab8761-d560-49cb-9a62-151031e13398",
   "metadata": {},
   "outputs": [
    {
     "data": {
      "text/plain": [
       "{'resourceType': 'Condition',\n",
       " 'id': '31443',\n",
       " 'clinicalStatus': {'coding': [{'system': 'http://terminology.hl7.org/CodeSystem/condition-clinical',\n",
       "    'code': 'resolved'}]},\n",
       " 'verificationStatus': {'coding': [{'system': 'http://terminology.hl7.org/CodeSystem/condition-ver-status',\n",
       "    'code': 'confirmed'}]},\n",
       " 'code': {'coding': [{'system': 'http://snomed.info/sct',\n",
       "    'code': '301011002',\n",
       "    'display': 'Escherichia coli urinary tract infection'}],\n",
       "  'text': 'Escherichia coli urinary tract infection'},\n",
       " 'subject': {'reference': 'Patient/25319'},\n",
       " 'encounter': {'reference': 'Encounter/31442'},\n",
       " 'onsetDateTime': '2020-07-31T05:02:07-04:00',\n",
       " 'abatementDateTime': '2020-08-07T05:02:07-04:00',\n",
       " 'recordedDate': '2020-07-31T05:02:07-04:00',\n",
       " 'meta': {'lastUpdated': '2025-09-19T14:00:29Z', 'versionId': '1'}}"
      ]
     },
     "execution_count": 155,
     "metadata": {},
     "output_type": "execute_result"
    }
   ],
   "source": [
    "## Again, we can view the full resource using: \n",
    "conditions[0].serialize()"
   ]
  },
  {
   "cell_type": "code",
   "execution_count": 156,
   "id": "6a2e66f6-cd8e-4143-a265-3e25dbaffc0e",
   "metadata": {},
   "outputs": [
    {
     "name": "stdout",
     "output_type": "stream",
     "text": [
      "id: 31443 , patient: Patient/25319\n",
      "Date:  2020-07-31T05:02:07-04:00\n",
      "Condition:  Escherichia coli urinary tract infection \n",
      "\n",
      "id: 27077 , patient: Patient/25319\n",
      "Date:  2020-03-12T05:41:07-04:00\n",
      "Condition:  Acute pulmonary embolism (disorder) \n",
      "\n",
      "id: 27055 , patient: Patient/25319\n",
      "Date:  2020-03-04T04:41:07-05:00\n",
      "Condition:  COVID-19 \n",
      "\n",
      "id: 27073 , patient: Patient/25319\n",
      "Date:  2020-03-04T04:41:07-05:00\n",
      "Condition:  Pneumonia (disorder) \n",
      "\n",
      "id: 27074 , patient: Patient/25319\n",
      "Date:  2020-03-04T04:41:07-05:00\n",
      "Condition:  Hypoxemia (disorder) \n",
      "\n"
     ]
    }
   ],
   "source": [
    "## Or iterate through the first 5 results: \n",
    "for condition in conditions[:5]: \n",
    "    print(f'id: {condition.id} , patient: {condition.subject.reference}')\n",
    "    print(\"Date: \", condition.recordedDate)\n",
    "    print(\"Condition: \", condition.code.text, \"\\n\") \n",
    "    "
   ]
  },
  {
   "cell_type": "markdown",
   "id": "56a6cba4-948b-42e0-ac97-9b4070f73617",
   "metadata": {},
   "source": [
    "Note each resource has an ID value, this is not the same as the patient ID! \n",
    "\n",
    "We can do the same with other resources: "
   ]
  },
  {
   "cell_type": "code",
   "execution_count": 158,
   "id": "4c1dbad5-0120-4168-a3e1-bb80ceb69d6b",
   "metadata": {},
   "outputs": [
    {
     "name": "stdout",
     "output_type": "stream",
     "text": [
      "['Standard pregnancy test', 'Ultrasound scan for fetal viability', 'Counseling for termination of pregnancy', 'Induced termination of pregnancy', 'Pregnancy termination care', 'Physical exam following abortion', 'Depression screening', 'Standard pregnancy test', 'Ultrasound scan for fetal viability', 'Evaluation of uterine fundal height', 'Auscultation of the fetal heart', 'Blood typing, RH typing', 'Hemoglobin / Hematocrit / Platelet count', 'Hepatitis B Surface Antigen Measurement', 'Human immunodeficiency virus antigen test', 'Chlamydia antigen test', 'Gonorrhea infection test', 'Syphilis infection test', 'Urine culture', 'Cytopathology procedure, preparation of smear, genital source', 'Urine screening test for diabetes', 'Hepatitis C antibody test', 'Rubella screening', 'Measurement of Varicella-zoster virus antibody', 'Skin test for tuberculosis', 'Urine protein test', 'Physical examination of mother', 'Evaluation of uterine fundal height', 'Auscultation of the fetal heart', 'Screening for chromosomal aneuploidy in prenatal amniotic fluid', 'Physical examination', 'Depression screening', 'Bilateral tubal ligation', 'Sputum examination (procedure)', 'Medication Reconciliation (procedure)', 'Throat culture (procedure)', 'Suture open wound', 'Medication Reconciliation (procedure)', 'Face mask (physical object)', 'Plain chest X-ray (procedure)', 'Oxygen administration by mask (procedure)', 'Placing subject in prone position (procedure)', 'Oxygen administration by mask (procedure)', 'Placing subject in prone position (procedure)', 'Oxygen administration by mask (procedure)', 'Placing subject in prone position (procedure)', 'Oxygen administration by mask (procedure)', 'Placing subject in prone position (procedure)', 'Oxygen administration by mask (procedure)', 'Placing subject in prone position (procedure)', 'Oxygen administration by mask (procedure)', 'Placing subject in prone position (procedure)', 'Oxygen administration by mask (procedure)', 'Placing subject in prone position (procedure)', 'Oxygen administration by mask (procedure)', 'Placing subject in prone position (procedure)', 'Oxygen administration by mask (procedure)', 'Placing subject in prone position (procedure)', 'Oxygen administration by mask (procedure)', 'Placing subject in prone position (procedure)']\n",
      "\n",
      "\n",
      "\n"
     ]
    }
   ],
   "source": [
    "procedures =  client.resources(\"Procedure\").search(patient=patient_id).fetch()\n",
    "print([f'{procedure.code.text}' for procedure in procedures])\n",
    "\n",
    "print('\\n\\n')"
   ]
  },
  {
   "cell_type": "markdown",
   "id": "0e7e032a-a60a-4005-a006-c2a6bf744780",
   "metadata": {},
   "source": [
    "There might be a particular value we are interested in. For example, maybe we want to track how a patient's weight has changed over time. Here we can use the coding systems to search for a particular category of resource. Here, I've looked up the code for patient weight from https://www.findacode.com and used this code (29463-7) as a search parameter:"
   ]
  },
  {
   "cell_type": "code",
   "execution_count": 159,
   "id": "71220c93-7461-4569-acbf-fbc622a34d25",
   "metadata": {},
   "outputs": [
    {
     "name": "stdout",
     "output_type": "stream",
     "text": [
      "The search returned 16 results!\n",
      "Resource structure: \n"
     ]
    },
    {
     "data": {
      "text/plain": [
       "{'resourceType': 'Observation',\n",
       " 'id': '31426',\n",
       " 'status': 'final',\n",
       " 'category': [{'coding': [{'system': 'http://terminology.hl7.org/CodeSystem/observation-category',\n",
       "     'code': 'vital-signs',\n",
       "     'display': 'vital-signs'}]}],\n",
       " 'code': {'coding': [{'system': 'http://loinc.org',\n",
       "    'code': '29463-7',\n",
       "    'display': 'Body Weight'}],\n",
       "  'text': 'Body Weight'},\n",
       " 'subject': {'reference': 'Patient/25319'},\n",
       " 'encounter': {'reference': 'Encounter/31423'},\n",
       " 'effectiveDateTime': '2020-07-05T05:02:07-04:00',\n",
       " 'issued': '2020-07-05T05:02:07.383-04:00',\n",
       " 'valueQuantity': {'value': 55.8,\n",
       "  'unit': 'kg',\n",
       "  'system': 'http://unitsofmeasure.org',\n",
       "  'code': 'kg'},\n",
       " 'meta': {'lastUpdated': '2025-09-19T14:00:28Z', 'versionId': '1'}}"
      ]
     },
     "execution_count": 159,
     "metadata": {},
     "output_type": "execute_result"
    }
   ],
   "source": [
    "observations =  client.resources(\"Observation\").search(patient=patient_id, code=\"29463-7\").sort(\"-date\").fetch()\n",
    "print(f'The search returned {len(observations)} results!')\n",
    "print(\"Resource structure: \")\n",
    "observations[0].serialize()"
   ]
  },
  {
   "cell_type": "code",
   "execution_count": 160,
   "id": "8653bf9d-e2bc-49d6-b61b-d96f86adf706",
   "metadata": {},
   "outputs": [
    {
     "name": "stdout",
     "output_type": "stream",
     "text": [
      "('2020-07-05T05:02:07-04:00', 55.8, 'kg')\n",
      "('2020-03-13T05:41:07-04:00', 55.8, 'kg')\n",
      "('2020-03-12T05:41:07-04:00', 55.8, 'kg')\n",
      "('2020-03-11T05:41:07-04:00', 55.8, 'kg')\n",
      "('2020-03-10T05:41:07-04:00', 55.8, 'kg')\n",
      "('2020-03-09T05:41:07-04:00', 55.8, 'kg')\n",
      "('2020-03-08T05:41:07-04:00', 55.8, 'kg')\n",
      "('2020-03-07T04:41:07-05:00', 55.8, 'kg')\n",
      "('2020-03-06T04:41:07-05:00', 55.8, 'kg')\n",
      "('2020-03-05T04:41:07-05:00', 55.8, 'kg')\n",
      "('2020-03-04T04:41:07-05:00', 55.8, 'kg')\n",
      "('2020-03-04T04:02:07-05:00', 55.8, 'kg')\n",
      "('2018-07-01T05:02:07-04:00', 55.8, 'kg')\n",
      "('2015-09-13T05:02:07-04:00', 55.8, 'kg')\n",
      "('2014-11-09T04:02:07-05:00', 55.8, 'kg')\n",
      "('2012-09-09T05:02:07-04:00', 55.8, 'kg')\n"
     ]
    }
   ],
   "source": [
    "datapoints = []\n",
    "for observation in observations: \n",
    "    point = (observation.effectiveDateTime, observation.valueQuantity.value, observation.valueQuantity.unit)\n",
    "    datapoints.append(point)\n",
    "    print(point) \n"
   ]
  },
  {
   "cell_type": "markdown",
   "id": "a46898c3-ec97-4ce4-a37d-9777ae5aa7d4",
   "metadata": {},
   "source": [
    "Now somewhat unexpectedly, the patient has stayed at exactly the same weight for 8 years and across two pregnancies! There are limits to the realism of synthetic data... \n",
    "\n",
    "I was planning to demonstrate making a basic graph of weight-vs-time, but on second thoughts, I think you can use your imagination! However, you can hopefully see how you can use FHIR resources to build a picture of a patient's medical history. "
   ]
  },
  {
   "cell_type": "markdown",
   "id": "a6fadde4-5bf6-4202-ae32-ec6510f96d8f",
   "metadata": {},
   "source": [
    "# Querying the FHIR Server with HTTP requests\n",
    "\n",
    "While fhirpy can make certain syntax easier, we can also query the server with standard HTTP requests, this is the standard way to query FHIR servers from different applications and may be more familiar to people who have used FHIR a lot. \n"
   ]
  },
  {
   "cell_type": "code",
   "execution_count": 26,
   "id": "ed462c1d-98fc-48b4-95fd-8c6840ca7282",
   "metadata": {},
   "outputs": [
    {
     "name": "stdout",
     "output_type": "stream",
     "text": [
      "<Response [200]>\n"
     ]
    }
   ],
   "source": [
    "import requests\n",
    "from requests.auth import HTTPBasicAuth\n",
    "\n",
    "## Credentials\n",
    "username = \"_System\"\n",
    "password = \"SYS\"\n",
    "\n",
    "## FHIR server location\n",
    "baseURL = \"http://localhost:32783/fhir/r4/\"\n",
    "\n",
    "headers ={    \"Accept\": \"application/fhir+json\"}\n",
    "\n",
    "\n",
    "endpoint = \"Patient\"\n",
    "\n",
    "\n",
    "res = requests.get(baseURL+endpoint, headers=headers, auth=HTTPBasicAuth(username, password))\n",
    "print(res)"
   ]
  },
  {
   "cell_type": "markdown",
   "id": "0a15785b-0ff6-4e46-bf5c-4721cd724a2b",
   "metadata": {},
   "source": [
    "Response 200 means we have successfully recieved the expected response, in this case, it will be a bundle of all patient resources. We can access this bundle using res.json(). This can be quite annoying to parse, but the data is there! For example: "
   ]
  },
  {
   "cell_type": "code",
   "execution_count": 196,
   "id": "f25c8691-740f-4eba-9784-d6a035d56280",
   "metadata": {
    "scrolled": true
   },
   "outputs": [
    {
     "name": "stdout",
     "output_type": "stream",
     "text": [
      "5 [{'use': 'official', 'family': 'Runolfsdottir', 'given': ['Sudie'], 'prefix': ['Mrs.']}, {'use': 'maiden', 'family': 'Buckridge', 'given': ['Sudie'], 'prefix': ['Mrs.']}] female\n",
      "3 [{'use': 'official', 'family': 'Mann', 'given': ['Suzann'], 'prefix': ['Mrs.']}, {'use': 'maiden', 'family': 'Pollich', 'given': ['Suzann'], 'prefix': ['Mrs.']}] female\n",
      "4 [{'use': 'official', 'family': 'Paucek', 'given': ['Stewart'], 'prefix': ['Mr.']}] male\n",
      "1 [{'use': 'official', 'family': 'Baumbach', 'given': ['Sung']}] female\n",
      "2 [{'use': 'official', 'family': 'Larson', 'given': ['Stewart']}] male\n",
      "6 [{'use': 'official', 'family': 'Murazik', 'given': ['Sydney'], 'prefix': ['Mr.']}] male\n",
      "7 [{'use': 'official', 'family': 'Cronin', 'given': ['Stuart'], 'prefix': ['Mr.']}] male\n",
      "1371 [{'use': 'official', 'family': 'Schinner', 'given': ['Synthia']}] female\n",
      "1759 [{'use': 'official', 'family': 'Dickens', 'given': ['Tamica'], 'prefix': ['Mrs.']}, {'use': 'maiden', 'family': 'Hamill', 'given': ['Tamica'], 'prefix': ['Mrs.']}] female\n",
      "1633 [{'use': 'official', 'family': 'Hilll', 'given': ['Talisha'], 'prefix': ['Ms.']}] female\n"
     ]
    }
   ],
   "source": [
    "#print(res.json())\n",
    "data = res.json() \n",
    "\n",
    "for entry in data.get(\"entry\", [])[:10]: ## Get the first 10 entries\n",
    "    patient = entry.get('resource', {}) ## Get the patient resource\n",
    "    print(patient.get('id'), patient.get('name'), patient.get('gender')) ## Print the patient info\n"
   ]
  },
  {
   "cell_type": "markdown",
   "id": "9167e862-1374-4d23-9634-113baefb33c0",
   "metadata": {},
   "source": [
    "We can add search parameters to the URL we are quering, for example: "
   ]
  },
  {
   "cell_type": "code",
   "execution_count": 211,
   "id": "6eadf846-df89-4a96-85eb-eddd0d800651",
   "metadata": {},
   "outputs": [
    {
     "name": "stdout",
     "output_type": "stream",
     "text": [
      "http://localhost:8080/csp/healthshare/demo/fhir/r4/Patient/?name=Tish\n",
      "<Response [200]>\n"
     ]
    }
   ],
   "source": [
    "\n",
    "search_params = \"?name=Tish\"\n",
    "\n",
    "url = baseURL + endpoint+ \"/\"+ search_params\n",
    "print(url)\n",
    "res = requests.get(url, headers=headers, auth=HTTPBasicAuth(username, password))\n",
    "print(res)"
   ]
  },
  {
   "cell_type": "code",
   "execution_count": 212,
   "id": "c162da2a-4e5e-4dd5-91fe-5bf360c5a141",
   "metadata": {
    "scrolled": true
   },
   "outputs": [
    {
     "data": {
      "text/plain": [
       "{'resourceType': 'Bundle',\n",
       " 'id': 'fda900e2-992d-11f0-a420-361c5f389c7a',\n",
       " 'type': 'searchset',\n",
       " 'timestamp': '2025-09-24T10:05:25Z',\n",
       " 'total': 1,\n",
       " 'link': [{'relation': 'self',\n",
       "   'url': 'http://localhost:8080/csp/healthshare/demo/fhir/r4/Patient?name=Tish'}],\n",
       " 'entry': [{'fullUrl': 'http://localhost:8080/csp/healthshare/demo/fhir/r4/Patient/25319',\n",
       "   'resource': {'resourceType': 'Patient',\n",
       "    'id': '25319',\n",
       "    'text': {'status': 'generated',\n",
       "     'div': '<div xmlns=\"http://www.w3.org/1999/xhtml\">Generated by <a href=\"https://github.com/synthetichealth/synthea\">Synthea</a>.Version identifier: synthea-java .   Person seed: 7070811051044420006  Population seed: 1597764932523</div>'},\n",
       "    'extension': [{'url': 'http://hl7.org/fhir/StructureDefinition/patient-mothersMaidenName',\n",
       "      'valueString': 'Lisabeth Zboncak'},\n",
       "     {'url': 'http://hl7.org/fhir/StructureDefinition/patient-birthPlace',\n",
       "      'valueAddress': {'city': 'Nahant',\n",
       "       'state': 'Massachusetts',\n",
       "       'country': 'US'}},\n",
       "     {'url': 'http://synthetichealth.github.io/synthea/disability-adjusted-life-years',\n",
       "      'valueDecimal': 0.07941261291993779},\n",
       "     {'url': 'http://synthetichealth.github.io/synthea/quality-adjusted-life-years',\n",
       "      'valueDecimal': 40.92058738708006}],\n",
       "    'identifier': [{'system': 'https://github.com/synthetichealth/synthea',\n",
       "      'value': 'e362ce59-b198-4296-b01e-109fa6b44fe5'},\n",
       "     {'type': {'coding': [{'system': 'http://terminology.hl7.org/CodeSystem/v2-0203',\n",
       "         'code': 'MR',\n",
       "         'display': 'Medical Record Number'}],\n",
       "       'text': 'Medical Record Number'},\n",
       "      'system': 'http://hospital.smarthealthit.org',\n",
       "      'value': 'e362ce59-b198-4296-b01e-109fa6b44fe5'},\n",
       "     {'type': {'coding': [{'system': 'http://terminology.hl7.org/CodeSystem/v2-0203',\n",
       "         'code': 'SS',\n",
       "         'display': 'Social Security Number'}],\n",
       "       'text': 'Social Security Number'},\n",
       "      'system': 'http://hl7.org/fhir/sid/us-ssn',\n",
       "      'value': '999-13-4626'},\n",
       "     {'type': {'coding': [{'system': 'http://terminology.hl7.org/CodeSystem/v2-0203',\n",
       "         'code': 'DL',\n",
       "         'display': \"Driver's License\"}],\n",
       "       'text': \"Driver's License\"},\n",
       "      'system': 'urn:oid:2.16.840.1.113883.4.3.25',\n",
       "      'value': 'S99931949'},\n",
       "     {'type': {'coding': [{'system': 'http://terminology.hl7.org/CodeSystem/v2-0203',\n",
       "         'code': 'PPN',\n",
       "         'display': 'Passport Number'}],\n",
       "       'text': 'Passport Number'},\n",
       "      'system': 'http://standardhealthrecord.org/fhir/StructureDefinition/passportNumber',\n",
       "      'value': 'X76326389X'}],\n",
       "    'name': [{'use': 'official',\n",
       "      'family': 'Lemke',\n",
       "      'given': ['Tish'],\n",
       "      'prefix': ['Mrs.']},\n",
       "     {'use': 'maiden',\n",
       "      'family': 'Johnston',\n",
       "      'given': ['Tish'],\n",
       "      'prefix': ['Mrs.']}],\n",
       "    'telecom': [{'system': 'phone', 'value': '555-640-1130', 'use': 'home'}],\n",
       "    'gender': 'female',\n",
       "    'birthDate': '1978-06-25',\n",
       "    'address': [{'extension': [{'url': 'http://hl7.org/fhir/StructureDefinition/geolocation',\n",
       "        'extension': [{'url': 'latitude', 'valueDecimal': 41.78651253516297},\n",
       "         {'url': 'longitude', 'valueDecimal': -70.69785375801584}]}],\n",
       "      'line': ['400 Cartwright Knoll'],\n",
       "      'city': 'Wareham',\n",
       "      'state': 'Massachusetts',\n",
       "      'country': 'US'}],\n",
       "    'maritalStatus': {'coding': [{'system': 'http://terminology.hl7.org/CodeSystem/v3-MaritalStatus',\n",
       "       'code': 'M',\n",
       "       'display': 'M'}],\n",
       "     'text': 'M'},\n",
       "    'multipleBirthBoolean': False,\n",
       "    'communication': [{'language': {'coding': [{'system': 'urn:ietf:bcp:47',\n",
       "         'code': 'en-US',\n",
       "         'display': 'English'}],\n",
       "       'text': 'English'}}],\n",
       "    'meta': {'lastUpdated': '2025-09-19T14:00:21Z', 'versionId': '1'}},\n",
       "   'search': {'mode': 'match'}}]}"
      ]
     },
     "execution_count": 212,
     "metadata": {},
     "output_type": "execute_result"
    }
   ],
   "source": [
    "res.json()"
   ]
  },
  {
   "cell_type": "markdown",
   "id": "ddcf1a41-70da-4df3-944e-68d14527beed",
   "metadata": {},
   "source": [
    "An advantage of using HTTP requests is that there is much better documentation and examples on using search parameters, making complex queries easier to create. \n",
    "\n",
    "Disadvantages of HTTP requests include that you have to include the headers and authentication information each time you make a request, and the process for creating simple queries is much more complicated. The bundle output is also complete in the JSON (or python dict) format, making it harder to parse than lists of fhirpy `<SyncFHIRResource>` object. \n",
    "\n",
    "Depending on experience and usage, you may prefer one over the other, but so feel free to use whichever. "
   ]
  }
 ],
 "metadata": {
  "kernelspec": {
   "display_name": "Python 3 (ipykernel)",
   "language": "python",
   "name": "python3"
  },
  "language_info": {
   "codemirror_mode": {
    "name": "ipython",
    "version": 3
   },
   "file_extension": ".py",
   "mimetype": "text/x-python",
   "name": "python",
   "nbconvert_exporter": "python",
   "pygments_lexer": "ipython3",
   "version": "3.10.11"
  }
 },
 "nbformat": 4,
 "nbformat_minor": 5
}
